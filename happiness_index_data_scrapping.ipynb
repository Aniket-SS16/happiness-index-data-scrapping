{
 "cells": [
  {
   "cell_type": "markdown",
   "id": "3d1870c2-aca9-4deb-86c3-b5f66218e620",
   "metadata": {},
   "source": [
    "**Data Scrapping from Real Website and Pandas**"
   ]
  },
  {
   "cell_type": "code",
   "execution_count": 26,
   "id": "d8807648-1227-4c30-8a19-2db0b4c02b66",
   "metadata": {},
   "outputs": [],
   "source": [
    "from bs4 import BeautifulSoup as BS\n",
    "import requests\n",
    "import pandas as pd"
   ]
  },
  {
   "cell_type": "code",
   "execution_count": 12,
   "id": "3304e56a-c044-4260-9e7f-161297790ae3",
   "metadata": {},
   "outputs": [],
   "source": [
    "url = \"https://wisevoter.com/country-rankings/happiest-countries-in-the-world/\"\n",
    "page = requests.get(url)\n",
    "soup = BS(page.text, 'html')"
   ]
  },
  {
   "cell_type": "code",
   "execution_count": 45,
   "id": "8fd72831-94ff-4a59-9358-28dd0cd7d80e",
   "metadata": {},
   "outputs": [
    {
     "data": {
      "text/plain": [
       "<table class=\"shdb-on-page-table\" id=\"shdb-on-page-table\"><thead><tr><th>#</th><th>Country</th><th>Happiness Index</th></tr></thead><tbody><tr><td class=\"shdb-on-page-table-body-Rank\">1</td><td class=\"shdb-on-page-table-body-Geo\">Finland</td><td class=\"shdb-on-page-table-body-Data\" data-order=\"1\">7.82</td></tr><tr><td class=\"shdb-on-page-table-body-Rank\">2</td><td class=\"shdb-on-page-table-body-Geo\">Denmark</td><td class=\"shdb-on-page-table-body-Data\" data-order=\"2\">7.64</td></tr><tr><td class=\"shdb-on-page-table-body-Rank\">3</td><td class=\"shdb-on-page-table-body-Geo\">Iceland</td><td class=\"shdb-on-page-table-body-Data\" data-order=\"3\">7.56</td></tr><tr><td class=\"shdb-on-page-table-body-Rank\">4</td><td class=\"shdb-on-page-table-body-Geo\">Switzerland</td><td class=\"shdb-on-page-table-body-Data\" data-order=\"4\">7.51</td></tr><tr><td class=\"shdb-on-page-table-body-Rank\">5</td><td class=\"shdb-on-page-table-body-Geo\">Netherlands</td><td class=\"shdb-on-page-table-body-Data\" data-order=\"5\">7.42</td></tr><tr><td class=\"shdb-on-page-table-body-Rank\">6</td><td class=\"shdb-on-page-table-body-Geo\">Luxembourg</td><td class=\"shdb-on-page-table-body-Data\" data-order=\"6\">7.4</td></tr><tr><td class=\"shdb-on-page-table-body-Rank\">7</td><td class=\"shdb-on-page-table-body-Geo\">Sweden</td><td class=\"shdb-on-page-table-body-Data\" data-order=\"7\">7.38</td></tr><tr><td class=\"shdb-on-page-table-body-Rank\">8</td><td class=\"shdb-on-page-table-body-Geo\">Norway</td><td class=\"shdb-on-page-table-body-Data\" data-order=\"8\">7.37</td></tr><tr><td class=\"shdb-on-page-table-body-Rank\">9</td><td class=\"shdb-on-page-table-body-Geo\">Israel</td><td class=\"shdb-on-page-table-body-Data\" data-order=\"9\">7.36</td></tr><tr><td class=\"shdb-on-page-table-body-Rank\">10</td><td class=\"shdb-on-page-table-body-Geo\">New Zealand</td><td class=\"shdb-on-page-table-body-Data\" data-order=\"10\">7.2</td></tr><tr><td class=\"shdb-on-page-table-body-Rank\">11</td><td class=\"shdb-on-page-table-body-Geo\">Australia</td><td class=\"shdb-on-page-table-body-Data\" data-order=\"11\">7.16</td></tr><tr><td class=\"shdb-on-page-table-body-Rank\">12</td><td class=\"shdb-on-page-table-body-Geo\">Austria</td><td class=\"shdb-on-page-table-body-Data\" data-order=\"12\">7.16</td></tr><tr><td class=\"shdb-on-page-table-body-Rank\">13</td><td class=\"shdb-on-page-table-body-Geo\">Ireland</td><td class=\"shdb-on-page-table-body-Data\" data-order=\"13\">7.04</td></tr><tr><td class=\"shdb-on-page-table-body-Rank\">14</td><td class=\"shdb-on-page-table-body-Geo\">Canada</td><td class=\"shdb-on-page-table-body-Data\" data-order=\"14\">7.03</td></tr><tr><td class=\"shdb-on-page-table-body-Rank\">15</td><td class=\"shdb-on-page-table-body-Geo\">Germany</td><td class=\"shdb-on-page-table-body-Data\" data-order=\"15\">7.03</td></tr><tr><td class=\"shdb-on-page-table-body-Rank\">16</td><td class=\"shdb-on-page-table-body-Geo\">United States of America</td><td class=\"shdb-on-page-table-body-Data\" data-order=\"16\">6.98</td></tr><tr><td class=\"shdb-on-page-table-body-Rank\">17</td><td class=\"shdb-on-page-table-body-Geo\">United Kingdom</td><td class=\"shdb-on-page-table-body-Data\" data-order=\"17\">6.94</td></tr><tr><td class=\"shdb-on-page-table-body-Rank\">18</td><td class=\"shdb-on-page-table-body-Geo\">Czech Republic</td><td class=\"shdb-on-page-table-body-Data\" data-order=\"18\">6.92</td></tr><tr><td class=\"shdb-on-page-table-body-Rank\">19</td><td class=\"shdb-on-page-table-body-Geo\">Belgium</td><td class=\"shdb-on-page-table-body-Data\" data-order=\"19\">6.81</td></tr><tr><td class=\"shdb-on-page-table-body-Rank\">20</td><td class=\"shdb-on-page-table-body-Geo\">France</td><td class=\"shdb-on-page-table-body-Data\" data-order=\"20\">6.69</td></tr><tr><td class=\"shdb-on-page-table-body-Rank\">21</td><td class=\"shdb-on-page-table-body-Geo\">Bahrain</td><td class=\"shdb-on-page-table-body-Data\" data-order=\"21\">6.65</td></tr><tr><td class=\"shdb-on-page-table-body-Rank\">22</td><td class=\"shdb-on-page-table-body-Geo\">Slovenia</td><td class=\"shdb-on-page-table-body-Data\" data-order=\"22\">6.63</td></tr><tr><td class=\"shdb-on-page-table-body-Rank\">23</td><td class=\"shdb-on-page-table-body-Geo\">Costa Rica</td><td class=\"shdb-on-page-table-body-Data\" data-order=\"23\">6.58</td></tr><tr><td class=\"shdb-on-page-table-body-Rank\">24</td><td class=\"shdb-on-page-table-body-Geo\">United Arab Emirates</td><td class=\"shdb-on-page-table-body-Data\" data-order=\"24\">6.58</td></tr><tr><td class=\"shdb-on-page-table-body-Rank\">25</td><td class=\"shdb-on-page-table-body-Geo\">Saudi Arabia</td><td class=\"shdb-on-page-table-body-Data\" data-order=\"25\">6.52</td></tr><tr><td class=\"shdb-on-page-table-body-Rank\">26</td><td class=\"shdb-on-page-table-body-Geo\">Taiwan</td><td class=\"shdb-on-page-table-body-Data\" data-order=\"26\">6.51</td></tr><tr><td class=\"shdb-on-page-table-body-Rank\">27</td><td class=\"shdb-on-page-table-body-Geo\">Romania</td><td class=\"shdb-on-page-table-body-Data\" data-order=\"27\">6.48</td></tr><tr><td class=\"shdb-on-page-table-body-Rank\">28</td><td class=\"shdb-on-page-table-body-Geo\">Singapore</td><td class=\"shdb-on-page-table-body-Data\" data-order=\"28\">6.48</td></tr><tr><td class=\"shdb-on-page-table-body-Rank\">29</td><td class=\"shdb-on-page-table-body-Geo\">Spain</td><td class=\"shdb-on-page-table-body-Data\" data-order=\"29\">6.48</td></tr><tr><td class=\"shdb-on-page-table-body-Rank\">30</td><td class=\"shdb-on-page-table-body-Geo\">Italy</td><td class=\"shdb-on-page-table-body-Data\" data-order=\"30\">6.47</td></tr><tr><td class=\"shdb-on-page-table-body-Rank\">31</td><td class=\"shdb-on-page-table-body-Geo\">Uruguay</td><td class=\"shdb-on-page-table-body-Data\" data-order=\"31\">6.47</td></tr><tr><td class=\"shdb-on-page-table-body-Rank\">32</td><td class=\"shdb-on-page-table-body-Geo\">Kosovo</td><td class=\"shdb-on-page-table-body-Data\" data-order=\"32\">6.46</td></tr><tr><td class=\"shdb-on-page-table-body-Rank\">33</td><td class=\"shdb-on-page-table-body-Geo\">Lithuania</td><td class=\"shdb-on-page-table-body-Data\" data-order=\"33\">6.45</td></tr><tr><td class=\"shdb-on-page-table-body-Rank\">34</td><td class=\"shdb-on-page-table-body-Geo\">Malta</td><td class=\"shdb-on-page-table-body-Data\" data-order=\"34\">6.45</td></tr><tr><td class=\"shdb-on-page-table-body-Rank\">35</td><td class=\"shdb-on-page-table-body-Geo\">Slovakia</td><td class=\"shdb-on-page-table-body-Data\" data-order=\"35\">6.39</td></tr><tr><td class=\"shdb-on-page-table-body-Rank\">36</td><td class=\"shdb-on-page-table-body-Geo\">Estonia</td><td class=\"shdb-on-page-table-body-Data\" data-order=\"36\">6.34</td></tr><tr><td class=\"shdb-on-page-table-body-Rank\">37</td><td class=\"shdb-on-page-table-body-Geo\">Panama</td><td class=\"shdb-on-page-table-body-Data\" data-order=\"37\">6.31</td></tr><tr><td class=\"shdb-on-page-table-body-Rank\">38</td><td class=\"shdb-on-page-table-body-Geo\">Brazil</td><td class=\"shdb-on-page-table-body-Data\" data-order=\"38\">6.29</td></tr><tr><td class=\"shdb-on-page-table-body-Rank\">39</td><td class=\"shdb-on-page-table-body-Geo\">Guatemala</td><td class=\"shdb-on-page-table-body-Data\" data-order=\"39\">6.26</td></tr><tr><td class=\"shdb-on-page-table-body-Rank\">40</td><td class=\"shdb-on-page-table-body-Geo\">Kazakhstan</td><td class=\"shdb-on-page-table-body-Data\" data-order=\"40\">6.23</td></tr><tr><td class=\"shdb-on-page-table-body-Rank\">41</td><td class=\"shdb-on-page-table-body-Geo\">Cyprus</td><td class=\"shdb-on-page-table-body-Data\" data-order=\"41\">6.22</td></tr><tr><td class=\"shdb-on-page-table-body-Rank\">42</td><td class=\"shdb-on-page-table-body-Geo\">Latvia</td><td class=\"shdb-on-page-table-body-Data\" data-order=\"42\">6.18</td></tr><tr><td class=\"shdb-on-page-table-body-Rank\">43</td><td class=\"shdb-on-page-table-body-Geo\">Serbia</td><td class=\"shdb-on-page-table-body-Data\" data-order=\"43\">6.18</td></tr><tr><td class=\"shdb-on-page-table-body-Rank\">44</td><td class=\"shdb-on-page-table-body-Geo\">Chile</td><td class=\"shdb-on-page-table-body-Data\" data-order=\"44\">6.17</td></tr><tr><td class=\"shdb-on-page-table-body-Rank\">45</td><td class=\"shdb-on-page-table-body-Geo\">Nicaragua</td><td class=\"shdb-on-page-table-body-Data\" data-order=\"45\">6.17</td></tr><tr><td class=\"shdb-on-page-table-body-Rank\">46</td><td class=\"shdb-on-page-table-body-Geo\">Croatia</td><td class=\"shdb-on-page-table-body-Data\" data-order=\"46\">6.13</td></tr><tr><td class=\"shdb-on-page-table-body-Rank\">47</td><td class=\"shdb-on-page-table-body-Geo\">Mexico</td><td class=\"shdb-on-page-table-body-Data\" data-order=\"47\">6.13</td></tr><tr><td class=\"shdb-on-page-table-body-Rank\">48</td><td class=\"shdb-on-page-table-body-Geo\">El Salvador</td><td class=\"shdb-on-page-table-body-Data\" data-order=\"48\">6.12</td></tr><tr><td class=\"shdb-on-page-table-body-Rank\">49</td><td class=\"shdb-on-page-table-body-Geo\">Poland</td><td class=\"shdb-on-page-table-body-Data\" data-order=\"49\">6.12</td></tr><tr><td class=\"shdb-on-page-table-body-Rank\">50</td><td class=\"shdb-on-page-table-body-Geo\">Kuwait</td><td class=\"shdb-on-page-table-body-Data\" data-order=\"50\">6.11</td></tr><tr><td class=\"shdb-on-page-table-body-Rank\">51</td><td class=\"shdb-on-page-table-body-Geo\">Hungary</td><td class=\"shdb-on-page-table-body-Data\" data-order=\"51\">6.09</td></tr><tr><td class=\"shdb-on-page-table-body-Rank\">52</td><td class=\"shdb-on-page-table-body-Geo\">Mauritius</td><td class=\"shdb-on-page-table-body-Data\" data-order=\"52\">6.07</td></tr><tr><td class=\"shdb-on-page-table-body-Rank\">53</td><td class=\"shdb-on-page-table-body-Geo\">Uzbekistan</td><td class=\"shdb-on-page-table-body-Data\" data-order=\"53\">6.06</td></tr><tr><td class=\"shdb-on-page-table-body-Rank\">54</td><td class=\"shdb-on-page-table-body-Geo\">Japan</td><td class=\"shdb-on-page-table-body-Data\" data-order=\"54\">6.04</td></tr><tr><td class=\"shdb-on-page-table-body-Rank\">55</td><td class=\"shdb-on-page-table-body-Geo\">Honduras</td><td class=\"shdb-on-page-table-body-Data\" data-order=\"55\">6.02</td></tr><tr><td class=\"shdb-on-page-table-body-Rank\">56</td><td class=\"shdb-on-page-table-body-Geo\">Portugal</td><td class=\"shdb-on-page-table-body-Data\" data-order=\"56\">6.02</td></tr><tr><td class=\"shdb-on-page-table-body-Rank\">57</td><td class=\"shdb-on-page-table-body-Geo\">Argentina</td><td class=\"shdb-on-page-table-body-Data\" data-order=\"57\">5.97</td></tr><tr><td class=\"shdb-on-page-table-body-Rank\">58</td><td class=\"shdb-on-page-table-body-Geo\">Greece</td><td class=\"shdb-on-page-table-body-Data\" data-order=\"58\">5.95</td></tr><tr><td class=\"shdb-on-page-table-body-Rank\">59</td><td class=\"shdb-on-page-table-body-Geo\">South Korea</td><td class=\"shdb-on-page-table-body-Data\" data-order=\"59\">5.94</td></tr><tr><td class=\"shdb-on-page-table-body-Rank\">60</td><td class=\"shdb-on-page-table-body-Geo\">Philippines</td><td class=\"shdb-on-page-table-body-Data\" data-order=\"60\">5.9</td></tr><tr><td class=\"shdb-on-page-table-body-Rank\">61</td><td class=\"shdb-on-page-table-body-Geo\">Thailand</td><td class=\"shdb-on-page-table-body-Data\" data-order=\"61\">5.89</td></tr><tr><td class=\"shdb-on-page-table-body-Rank\">62</td><td class=\"shdb-on-page-table-body-Geo\">Moldova</td><td class=\"shdb-on-page-table-body-Data\" data-order=\"62\">5.86</td></tr><tr><td class=\"shdb-on-page-table-body-Rank\">63</td><td class=\"shdb-on-page-table-body-Geo\">Jamaica</td><td class=\"shdb-on-page-table-body-Data\" data-order=\"63\">5.85</td></tr><tr><td class=\"shdb-on-page-table-body-Rank\">64</td><td class=\"shdb-on-page-table-body-Geo\">Kyrgyzstan</td><td class=\"shdb-on-page-table-body-Data\" data-order=\"64\">5.83</td></tr><tr><td class=\"shdb-on-page-table-body-Rank\">65</td><td class=\"shdb-on-page-table-body-Geo\">Belarus</td><td class=\"shdb-on-page-table-body-Data\" data-order=\"65\">5.82</td></tr><tr><td class=\"shdb-on-page-table-body-Rank\">66</td><td class=\"shdb-on-page-table-body-Geo\">Colombia</td><td class=\"shdb-on-page-table-body-Data\" data-order=\"66\">5.78</td></tr><tr><td class=\"shdb-on-page-table-body-Rank\">67</td><td class=\"shdb-on-page-table-body-Geo\">Bosnia and Herzegovina</td><td class=\"shdb-on-page-table-body-Data\" data-order=\"67\">5.77</td></tr><tr><td class=\"shdb-on-page-table-body-Rank\">68</td><td class=\"shdb-on-page-table-body-Geo\">Mongolia</td><td class=\"shdb-on-page-table-body-Data\" data-order=\"68\">5.76</td></tr><tr><td class=\"shdb-on-page-table-body-Rank\">69</td><td class=\"shdb-on-page-table-body-Geo\">Dominican Republic</td><td class=\"shdb-on-page-table-body-Data\" data-order=\"69\">5.74</td></tr><tr><td class=\"shdb-on-page-table-body-Rank\">70</td><td class=\"shdb-on-page-table-body-Geo\">Malaysia</td><td class=\"shdb-on-page-table-body-Data\" data-order=\"70\">5.71</td></tr><tr><td class=\"shdb-on-page-table-body-Rank\">71</td><td class=\"shdb-on-page-table-body-Geo\">Bolivia</td><td class=\"shdb-on-page-table-body-Data\" data-order=\"71\">5.6</td></tr><tr><td class=\"shdb-on-page-table-body-Rank\">72</td><td class=\"shdb-on-page-table-body-Geo\">People's Republic of China</td><td class=\"shdb-on-page-table-body-Data\" data-order=\"72\">5.59</td></tr><tr><td class=\"shdb-on-page-table-body-Rank\">73</td><td class=\"shdb-on-page-table-body-Geo\">Paraguay</td><td class=\"shdb-on-page-table-body-Data\" data-order=\"73\">5.58</td></tr><tr><td class=\"shdb-on-page-table-body-Rank\">74</td><td class=\"shdb-on-page-table-body-Geo\">Peru</td><td class=\"shdb-on-page-table-body-Data\" data-order=\"74\">5.56</td></tr><tr><td class=\"shdb-on-page-table-body-Rank\">75</td><td class=\"shdb-on-page-table-body-Geo\">Montenegro</td><td class=\"shdb-on-page-table-body-Data\" data-order=\"75\">5.55</td></tr><tr><td class=\"shdb-on-page-table-body-Rank\">76</td><td class=\"shdb-on-page-table-body-Geo\">Ecuador</td><td class=\"shdb-on-page-table-body-Data\" data-order=\"76\">5.53</td></tr><tr><td class=\"shdb-on-page-table-body-Rank\">77</td><td class=\"shdb-on-page-table-body-Geo\">Vietnam</td><td class=\"shdb-on-page-table-body-Data\" data-order=\"77\">5.49</td></tr><tr><td class=\"shdb-on-page-table-body-Rank\">78</td><td class=\"shdb-on-page-table-body-Geo\">Turkmenistan</td><td class=\"shdb-on-page-table-body-Data\" data-order=\"78\">5.47</td></tr><tr><td class=\"shdb-on-page-table-body-Rank\">79</td><td class=\"shdb-on-page-table-body-Geo\">Russia</td><td class=\"shdb-on-page-table-body-Data\" data-order=\"79\">5.46</td></tr><tr><td class=\"shdb-on-page-table-body-Rank\">80</td><td class=\"shdb-on-page-table-body-Geo\">Hong Kong</td><td class=\"shdb-on-page-table-body-Data\" data-order=\"80\">5.43</td></tr><tr><td class=\"shdb-on-page-table-body-Rank\">81</td><td class=\"shdb-on-page-table-body-Geo\">Armenia</td><td class=\"shdb-on-page-table-body-Data\" data-order=\"81\">5.4</td></tr><tr><td class=\"shdb-on-page-table-body-Rank\">82</td><td class=\"shdb-on-page-table-body-Geo\">Nepal</td><td class=\"shdb-on-page-table-body-Data\" data-order=\"82\">5.38</td></tr><tr><td class=\"shdb-on-page-table-body-Rank\">83</td><td class=\"shdb-on-page-table-body-Geo\">Tajikistan</td><td class=\"shdb-on-page-table-body-Data\" data-order=\"83\">5.38</td></tr><tr><td class=\"shdb-on-page-table-body-Rank\">84</td><td class=\"shdb-on-page-table-body-Geo\">Bulgaria</td><td class=\"shdb-on-page-table-body-Data\" data-order=\"84\">5.37</td></tr><tr><td class=\"shdb-on-page-table-body-Rank\">85</td><td class=\"shdb-on-page-table-body-Geo\">Libya</td><td class=\"shdb-on-page-table-body-Data\" data-order=\"85\">5.33</td></tr><tr><td class=\"shdb-on-page-table-body-Rank\">86</td><td class=\"shdb-on-page-table-body-Geo\">Indonesia</td><td class=\"shdb-on-page-table-body-Data\" data-order=\"86\">5.24</td></tr><tr><td class=\"shdb-on-page-table-body-Rank\">87</td><td class=\"shdb-on-page-table-body-Geo\">Ivory Coast</td><td class=\"shdb-on-page-table-body-Data\" data-order=\"87\">5.24</td></tr><tr><td class=\"shdb-on-page-table-body-Rank\">88</td><td class=\"shdb-on-page-table-body-Geo\">Albania</td><td class=\"shdb-on-page-table-body-Data\" data-order=\"88\">5.2</td></tr><tr><td class=\"shdb-on-page-table-body-Rank\">89</td><td class=\"shdb-on-page-table-body-Geo\">South Africa</td><td class=\"shdb-on-page-table-body-Data\" data-order=\"89\">5.19</td></tr><tr><td class=\"shdb-on-page-table-body-Rank\">90</td><td class=\"shdb-on-page-table-body-Geo\">Azerbaijan</td><td class=\"shdb-on-page-table-body-Data\" data-order=\"90\">5.17</td></tr><tr><td class=\"shdb-on-page-table-body-Rank\">91</td><td class=\"shdb-on-page-table-body-Geo\">Bangladesh</td><td class=\"shdb-on-page-table-body-Data\" data-order=\"91\">5.16</td></tr><tr><td class=\"shdb-on-page-table-body-Rank\">92</td><td class=\"shdb-on-page-table-body-Geo\">The Gambia</td><td class=\"shdb-on-page-table-body-Data\" data-order=\"92\">5.16</td></tr><tr><td class=\"shdb-on-page-table-body-Rank\">93</td><td class=\"shdb-on-page-table-body-Geo\">Laos</td><td class=\"shdb-on-page-table-body-Data\" data-order=\"93\">5.14</td></tr><tr><td class=\"shdb-on-page-table-body-Rank\">94</td><td class=\"shdb-on-page-table-body-Geo\">Algeria</td><td class=\"shdb-on-page-table-body-Data\" data-order=\"94\">5.12</td></tr><tr><td class=\"shdb-on-page-table-body-Rank\">95</td><td class=\"shdb-on-page-table-body-Geo\">Liberia</td><td class=\"shdb-on-page-table-body-Data\" data-order=\"95\">5.12</td></tr><tr><td class=\"shdb-on-page-table-body-Rank\">96</td><td class=\"shdb-on-page-table-body-Geo\">Ukraine</td><td class=\"shdb-on-page-table-body-Data\" data-order=\"96\">5.08</td></tr><tr><td class=\"shdb-on-page-table-body-Rank\">97</td><td class=\"shdb-on-page-table-body-Geo\">Morocco</td><td class=\"shdb-on-page-table-body-Data\" data-order=\"97\">5.06</td></tr><tr><td class=\"shdb-on-page-table-body-Rank\">98</td><td class=\"shdb-on-page-table-body-Geo\">Cameroon</td><td class=\"shdb-on-page-table-body-Data\" data-order=\"98\">5.05</td></tr><tr><td class=\"shdb-on-page-table-body-Rank\">99</td><td class=\"shdb-on-page-table-body-Geo\">Mozambique</td><td class=\"shdb-on-page-table-body-Data\" data-order=\"99\">5.05</td></tr><tr><td class=\"shdb-on-page-table-body-Rank\">100</td><td class=\"shdb-on-page-table-body-Geo\">Senegal</td><td class=\"shdb-on-page-table-body-Data\" data-order=\"100\">5.05</td></tr><tr><td class=\"shdb-on-page-table-body-Rank\">101</td><td class=\"shdb-on-page-table-body-Geo\">Niger</td><td class=\"shdb-on-page-table-body-Data\" data-order=\"101\">5</td></tr><tr><td class=\"shdb-on-page-table-body-Rank\">102</td><td class=\"shdb-on-page-table-body-Geo\">Georgia</td><td class=\"shdb-on-page-table-body-Data\" data-order=\"102\">4.97</td></tr><tr><td class=\"shdb-on-page-table-body-Rank\">103</td><td class=\"shdb-on-page-table-body-Geo\">Gabon</td><td class=\"shdb-on-page-table-body-Data\" data-order=\"103\">4.96</td></tr><tr><td class=\"shdb-on-page-table-body-Rank\">104</td><td class=\"shdb-on-page-table-body-Geo\">Iraq</td><td class=\"shdb-on-page-table-body-Data\" data-order=\"104\">4.94</td></tr><tr><td class=\"shdb-on-page-table-body-Rank\">105</td><td class=\"shdb-on-page-table-body-Geo\">Venezuela</td><td class=\"shdb-on-page-table-body-Data\" data-order=\"105\">4.93</td></tr><tr><td class=\"shdb-on-page-table-body-Rank\">106</td><td class=\"shdb-on-page-table-body-Geo\">Guinea</td><td class=\"shdb-on-page-table-body-Data\" data-order=\"106\">4.89</td></tr><tr><td class=\"shdb-on-page-table-body-Rank\">107</td><td class=\"shdb-on-page-table-body-Geo\">Iran</td><td class=\"shdb-on-page-table-body-Data\" data-order=\"107\">4.89</td></tr><tr><td class=\"shdb-on-page-table-body-Rank\">108</td><td class=\"shdb-on-page-table-body-Geo\">Ghana</td><td class=\"shdb-on-page-table-body-Data\" data-order=\"108\">4.87</td></tr><tr><td class=\"shdb-on-page-table-body-Rank\">109</td><td class=\"shdb-on-page-table-body-Geo\">Turkey</td><td class=\"shdb-on-page-table-body-Data\" data-order=\"109\">4.74</td></tr><tr><td class=\"shdb-on-page-table-body-Rank\">110</td><td class=\"shdb-on-page-table-body-Geo\">Burkina Faso</td><td class=\"shdb-on-page-table-body-Data\" data-order=\"110\">4.67</td></tr><tr><td class=\"shdb-on-page-table-body-Rank\">111</td><td class=\"shdb-on-page-table-body-Geo\">Cambodia</td><td class=\"shdb-on-page-table-body-Data\" data-order=\"111\">4.64</td></tr><tr><td class=\"shdb-on-page-table-body-Rank\">112</td><td class=\"shdb-on-page-table-body-Geo\">Benin</td><td class=\"shdb-on-page-table-body-Data\" data-order=\"112\">4.62</td></tr><tr><td class=\"shdb-on-page-table-body-Rank\">113</td><td class=\"shdb-on-page-table-body-Geo\">Comoros</td><td class=\"shdb-on-page-table-body-Data\" data-order=\"113\">4.61</td></tr><tr><td class=\"shdb-on-page-table-body-Rank\">114</td><td class=\"shdb-on-page-table-body-Geo\">Uganda</td><td class=\"shdb-on-page-table-body-Data\" data-order=\"114\">4.6</td></tr><tr><td class=\"shdb-on-page-table-body-Rank\">115</td><td class=\"shdb-on-page-table-body-Geo\">Nigeria</td><td class=\"shdb-on-page-table-body-Data\" data-order=\"115\">4.55</td></tr><tr><td class=\"shdb-on-page-table-body-Rank\">116</td><td class=\"shdb-on-page-table-body-Geo\">Kenya</td><td class=\"shdb-on-page-table-body-Data\" data-order=\"116\">4.54</td></tr><tr><td class=\"shdb-on-page-table-body-Rank\">117</td><td class=\"shdb-on-page-table-body-Geo\">Pakistan</td><td class=\"shdb-on-page-table-body-Data\" data-order=\"117\">4.52</td></tr><tr><td class=\"shdb-on-page-table-body-Rank\">118</td><td class=\"shdb-on-page-table-body-Geo\">Tunisia</td><td class=\"shdb-on-page-table-body-Data\" data-order=\"118\">4.52</td></tr><tr><td class=\"shdb-on-page-table-body-Rank\">119</td><td class=\"shdb-on-page-table-body-Geo\">Mali</td><td class=\"shdb-on-page-table-body-Data\" data-order=\"119\">4.48</td></tr><tr><td class=\"shdb-on-page-table-body-Rank\">120</td><td class=\"shdb-on-page-table-body-Geo\">Namibia</td><td class=\"shdb-on-page-table-body-Data\" data-order=\"120\">4.46</td></tr><tr><td class=\"shdb-on-page-table-body-Rank\">121</td><td class=\"shdb-on-page-table-body-Geo\">Eswatini</td><td class=\"shdb-on-page-table-body-Data\" data-order=\"121\">4.4</td></tr><tr><td class=\"shdb-on-page-table-body-Rank\">122</td><td class=\"shdb-on-page-table-body-Geo\">Myanmar</td><td class=\"shdb-on-page-table-body-Data\" data-order=\"122\">4.39</td></tr><tr><td class=\"shdb-on-page-table-body-Rank\">123</td><td class=\"shdb-on-page-table-body-Geo\">Sri Lanka</td><td class=\"shdb-on-page-table-body-Data\" data-order=\"123\">4.36</td></tr><tr><td class=\"shdb-on-page-table-body-Rank\">124</td><td class=\"shdb-on-page-table-body-Geo\">Madagascar</td><td class=\"shdb-on-page-table-body-Data\" data-order=\"124\">4.34</td></tr><tr><td class=\"shdb-on-page-table-body-Rank\">125</td><td class=\"shdb-on-page-table-body-Geo\">Egypt</td><td class=\"shdb-on-page-table-body-Data\" data-order=\"125\">4.29</td></tr><tr><td class=\"shdb-on-page-table-body-Rank\">126</td><td class=\"shdb-on-page-table-body-Geo\">Chad</td><td class=\"shdb-on-page-table-body-Data\" data-order=\"126\">4.25</td></tr><tr><td class=\"shdb-on-page-table-body-Rank\">127</td><td class=\"shdb-on-page-table-body-Geo\">Ethiopia</td><td class=\"shdb-on-page-table-body-Data\" data-order=\"127\">4.24</td></tr><tr><td class=\"shdb-on-page-table-body-Rank\">128</td><td class=\"shdb-on-page-table-body-Geo\">Yemen</td><td class=\"shdb-on-page-table-body-Data\" data-order=\"128\">4.2</td></tr><tr><td class=\"shdb-on-page-table-body-Rank\">129</td><td class=\"shdb-on-page-table-body-Geo\">Jordan</td><td class=\"shdb-on-page-table-body-Data\" data-order=\"129\">4.15</td></tr><tr><td class=\"shdb-on-page-table-body-Rank\">130</td><td class=\"shdb-on-page-table-body-Geo\">Mauritania</td><td class=\"shdb-on-page-table-body-Data\" data-order=\"130\">4.15</td></tr><tr><td class=\"shdb-on-page-table-body-Rank\">131</td><td class=\"shdb-on-page-table-body-Geo\">Togo</td><td class=\"shdb-on-page-table-body-Data\" data-order=\"131\">4.11</td></tr><tr><td class=\"shdb-on-page-table-body-Rank\">132</td><td class=\"shdb-on-page-table-body-Geo\">India</td><td class=\"shdb-on-page-table-body-Data\" data-order=\"132\">3.78</td></tr><tr><td class=\"shdb-on-page-table-body-Rank\">133</td><td class=\"shdb-on-page-table-body-Geo\">Zambia</td><td class=\"shdb-on-page-table-body-Data\" data-order=\"133\">3.76</td></tr><tr><td class=\"shdb-on-page-table-body-Rank\">134</td><td class=\"shdb-on-page-table-body-Geo\">Malawi</td><td class=\"shdb-on-page-table-body-Data\" data-order=\"134\">3.75</td></tr><tr><td class=\"shdb-on-page-table-body-Rank\">135</td><td class=\"shdb-on-page-table-body-Geo\">Tanzania</td><td class=\"shdb-on-page-table-body-Data\" data-order=\"135\">3.7</td></tr><tr><td class=\"shdb-on-page-table-body-Rank\">136</td><td class=\"shdb-on-page-table-body-Geo\">Sierra Leone</td><td class=\"shdb-on-page-table-body-Data\" data-order=\"136\">3.57</td></tr><tr><td class=\"shdb-on-page-table-body-Rank\">137</td><td class=\"shdb-on-page-table-body-Geo\">Lesotho</td><td class=\"shdb-on-page-table-body-Data\" data-order=\"137\">3.51</td></tr><tr><td class=\"shdb-on-page-table-body-Rank\">138</td><td class=\"shdb-on-page-table-body-Geo\">Botswana</td><td class=\"shdb-on-page-table-body-Data\" data-order=\"138\">3.47</td></tr><tr><td class=\"shdb-on-page-table-body-Rank\">139</td><td class=\"shdb-on-page-table-body-Geo\">Rwanda</td><td class=\"shdb-on-page-table-body-Data\" data-order=\"139\">3.27</td></tr><tr><td class=\"shdb-on-page-table-body-Rank\">140</td><td class=\"shdb-on-page-table-body-Geo\">Zimbabwe</td><td class=\"shdb-on-page-table-body-Data\" data-order=\"140\">3</td></tr><tr><td class=\"shdb-on-page-table-body-Rank\">141</td><td class=\"shdb-on-page-table-body-Geo\">Lebanon</td><td class=\"shdb-on-page-table-body-Data\" data-order=\"141\">2.96</td></tr><tr><td class=\"shdb-on-page-table-body-Rank\">142</td><td class=\"shdb-on-page-table-body-Geo\">Afghanistan</td><td class=\"shdb-on-page-table-body-Data\" data-order=\"142\">2.4</td></tr></tbody></table>"
      ]
     },
     "execution_count": 45,
     "metadata": {},
     "output_type": "execute_result"
    }
   ],
   "source": [
    "table = soup.find('table')\n",
    "table"
   ]
  },
  {
   "cell_type": "code",
   "execution_count": 47,
   "id": "d640aa30-3735-4234-bb1b-a2c50f200fe9",
   "metadata": {},
   "outputs": [
    {
     "data": {
      "text/plain": [
       "[<th>#</th>, <th>Country</th>, <th>Happiness Index</th>]"
      ]
     },
     "execution_count": 47,
     "metadata": {},
     "output_type": "execute_result"
    }
   ],
   "source": [
    "titles = table.find_all('th')\n",
    "titles"
   ]
  },
  {
   "cell_type": "code",
   "execution_count": 24,
   "id": "7983e043-affc-4da1-a7e9-1510faf0e479",
   "metadata": {},
   "outputs": [],
   "source": [
    "table_titles = [titles.text for titles in titles]"
   ]
  },
  {
   "cell_type": "code",
   "execution_count": 25,
   "id": "29feed0b-2477-4736-a07d-261b4f530471",
   "metadata": {},
   "outputs": [
    {
     "data": {
      "text/plain": [
       "['#', 'Country', 'Happiness Index']"
      ]
     },
     "execution_count": 25,
     "metadata": {},
     "output_type": "execute_result"
    }
   ],
   "source": [
    "table_titles"
   ]
  },
  {
   "cell_type": "code",
   "execution_count": 50,
   "id": "93086cac-c4da-4e72-a2f2-1d1e34bd8526",
   "metadata": {},
   "outputs": [],
   "source": [
    "df = pd.DataFrame(columns = table_titles)"
   ]
  },
  {
   "cell_type": "code",
   "execution_count": 51,
   "id": "59687c6a-d113-421e-b767-967a9b911263",
   "metadata": {},
   "outputs": [
    {
     "data": {
      "text/html": [
       "<div>\n",
       "<style scoped>\n",
       "    .dataframe tbody tr th:only-of-type {\n",
       "        vertical-align: middle;\n",
       "    }\n",
       "\n",
       "    .dataframe tbody tr th {\n",
       "        vertical-align: top;\n",
       "    }\n",
       "\n",
       "    .dataframe thead th {\n",
       "        text-align: right;\n",
       "    }\n",
       "</style>\n",
       "<table border=\"1\" class=\"dataframe\">\n",
       "  <thead>\n",
       "    <tr style=\"text-align: right;\">\n",
       "      <th></th>\n",
       "      <th>#</th>\n",
       "      <th>Country</th>\n",
       "      <th>Happiness Index</th>\n",
       "    </tr>\n",
       "  </thead>\n",
       "  <tbody>\n",
       "  </tbody>\n",
       "</table>\n",
       "</div>"
      ],
      "text/plain": [
       "Empty DataFrame\n",
       "Columns: [#, Country, Happiness Index]\n",
       "Index: []"
      ]
     },
     "execution_count": 51,
     "metadata": {},
     "output_type": "execute_result"
    }
   ],
   "source": [
    "df"
   ]
  },
  {
   "cell_type": "code",
   "execution_count": 52,
   "id": "4c1f5e9a-e978-4da1-b1a8-a8a0797ac0bc",
   "metadata": {},
   "outputs": [],
   "source": [
    "rows = table.find_all('tr')[1:]"
   ]
  },
  {
   "cell_type": "code",
   "execution_count": 53,
   "id": "cd8a8ac7-df36-464d-a8a9-27281bc56894",
   "metadata": {},
   "outputs": [],
   "source": [
    "for row in rows:\n",
    "    row_data = row.find_all('td')\n",
    "    table_rows = [data.text for data in row_data]\n",
    "    \n",
    "    length = len(df)\n",
    "    df.loc[length] = table_rows"
   ]
  },
  {
   "cell_type": "code",
   "execution_count": 54,
   "id": "6a0c364f-bc21-4f11-8ad2-6173a3ddb7f7",
   "metadata": {},
   "outputs": [
    {
     "data": {
      "text/html": [
       "<div>\n",
       "<style scoped>\n",
       "    .dataframe tbody tr th:only-of-type {\n",
       "        vertical-align: middle;\n",
       "    }\n",
       "\n",
       "    .dataframe tbody tr th {\n",
       "        vertical-align: top;\n",
       "    }\n",
       "\n",
       "    .dataframe thead th {\n",
       "        text-align: right;\n",
       "    }\n",
       "</style>\n",
       "<table border=\"1\" class=\"dataframe\">\n",
       "  <thead>\n",
       "    <tr style=\"text-align: right;\">\n",
       "      <th></th>\n",
       "      <th>#</th>\n",
       "      <th>Country</th>\n",
       "      <th>Happiness Index</th>\n",
       "    </tr>\n",
       "  </thead>\n",
       "  <tbody>\n",
       "    <tr>\n",
       "      <th>0</th>\n",
       "      <td>1</td>\n",
       "      <td>Finland</td>\n",
       "      <td>7.82</td>\n",
       "    </tr>\n",
       "    <tr>\n",
       "      <th>1</th>\n",
       "      <td>2</td>\n",
       "      <td>Denmark</td>\n",
       "      <td>7.64</td>\n",
       "    </tr>\n",
       "    <tr>\n",
       "      <th>2</th>\n",
       "      <td>3</td>\n",
       "      <td>Iceland</td>\n",
       "      <td>7.56</td>\n",
       "    </tr>\n",
       "    <tr>\n",
       "      <th>3</th>\n",
       "      <td>4</td>\n",
       "      <td>Switzerland</td>\n",
       "      <td>7.51</td>\n",
       "    </tr>\n",
       "    <tr>\n",
       "      <th>4</th>\n",
       "      <td>5</td>\n",
       "      <td>Netherlands</td>\n",
       "      <td>7.42</td>\n",
       "    </tr>\n",
       "    <tr>\n",
       "      <th>...</th>\n",
       "      <td>...</td>\n",
       "      <td>...</td>\n",
       "      <td>...</td>\n",
       "    </tr>\n",
       "    <tr>\n",
       "      <th>137</th>\n",
       "      <td>138</td>\n",
       "      <td>Botswana</td>\n",
       "      <td>3.47</td>\n",
       "    </tr>\n",
       "    <tr>\n",
       "      <th>138</th>\n",
       "      <td>139</td>\n",
       "      <td>Rwanda</td>\n",
       "      <td>3.27</td>\n",
       "    </tr>\n",
       "    <tr>\n",
       "      <th>139</th>\n",
       "      <td>140</td>\n",
       "      <td>Zimbabwe</td>\n",
       "      <td>3</td>\n",
       "    </tr>\n",
       "    <tr>\n",
       "      <th>140</th>\n",
       "      <td>141</td>\n",
       "      <td>Lebanon</td>\n",
       "      <td>2.96</td>\n",
       "    </tr>\n",
       "    <tr>\n",
       "      <th>141</th>\n",
       "      <td>142</td>\n",
       "      <td>Afghanistan</td>\n",
       "      <td>2.4</td>\n",
       "    </tr>\n",
       "  </tbody>\n",
       "</table>\n",
       "<p>142 rows × 3 columns</p>\n",
       "</div>"
      ],
      "text/plain": [
       "       #      Country Happiness Index\n",
       "0      1      Finland            7.82\n",
       "1      2      Denmark            7.64\n",
       "2      3      Iceland            7.56\n",
       "3      4  Switzerland            7.51\n",
       "4      5  Netherlands            7.42\n",
       "..   ...          ...             ...\n",
       "137  138     Botswana            3.47\n",
       "138  139       Rwanda            3.27\n",
       "139  140     Zimbabwe               3\n",
       "140  141      Lebanon            2.96\n",
       "141  142  Afghanistan             2.4\n",
       "\n",
       "[142 rows x 3 columns]"
      ]
     },
     "execution_count": 54,
     "metadata": {},
     "output_type": "execute_result"
    }
   ],
   "source": [
    "df"
   ]
  },
  {
   "cell_type": "code",
   "execution_count": 55,
   "id": "757f5c2b-175d-41f5-8b82-53c8523be11a",
   "metadata": {},
   "outputs": [],
   "source": [
    "df.to_csv(r'Downloads\\happiness_index.csv', index = False)"
   ]
  },
  {
   "cell_type": "code",
   "execution_count": null,
   "id": "78ea1882-5606-47cb-b4fe-592eb8369dcd",
   "metadata": {},
   "outputs": [],
   "source": []
  }
 ],
 "metadata": {
  "kernelspec": {
   "display_name": "Python 3 (ipykernel)",
   "language": "python",
   "name": "python3"
  },
  "language_info": {
   "codemirror_mode": {
    "name": "ipython",
    "version": 3
   },
   "file_extension": ".py",
   "mimetype": "text/x-python",
   "name": "python",
   "nbconvert_exporter": "python",
   "pygments_lexer": "ipython3",
   "version": "3.12.0"
  }
 },
 "nbformat": 4,
 "nbformat_minor": 5
}
